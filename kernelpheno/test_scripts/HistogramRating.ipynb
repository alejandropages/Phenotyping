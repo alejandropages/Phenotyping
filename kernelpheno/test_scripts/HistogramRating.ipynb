{
 "cells": [
  {
   "cell_type": "code",
   "execution_count": 21,
   "metadata": {},
   "outputs": [],
   "source": [
    "import matplotlib.pyplot as plt\n",
    "import numpy as np\n",
    "from sklearn.cluster import KMeans\n",
    "from skimage.io import imread, imshow\n",
    "from skimage.segmentation import slic\n",
    "from skimage.color import label2rgb"
   ]
  },
  {
   "cell_type": "code",
   "execution_count": 22,
   "metadata": {},
   "outputs": [],
   "source": [
    "im1 = imread(\"DSC05376.jpeg\")\n",
    "im2 = imread(\"DSC05384.jpeg\")\n",
    "im3 = imread(\"DSC05386.jpeg\")"
   ]
  },
  {
   "cell_type": "code",
   "execution_count": 23,
   "metadata": {},
   "outputs": [],
   "source": [
    "m1, m2, m3 = [KMeans(n_clusters = 3)]* 3"
   ]
  },
  {
   "cell_type": "code",
   "execution_count": null,
   "metadata": {},
   "outputs": [],
   "source": [
    "m1.fit(im1.reshape((im1.shape[0] * im1.shape[1], im1.shape[2])))\n",
    "m2.fit(im2.reshape((im2.shape[0] * im2.shape[1], im2.shape[2])))\n",
    "m3.fit(im3.reshape((im3.shape[0] * im3.shape[1], im3.shape[2])))"
   ]
  },
  {
   "cell_type": "code",
   "execution_count": null,
   "metadata": {},
   "outputs": [],
   "source": [
    "print(m1.cluster_centers_)\n",
    "print(m2.cluster_centers_)\n",
    "print(m3.cluster_centers_)"
   ]
  },
  {
   "cell_type": "markdown",
   "metadata": {},
   "source": [
    "# Find the cluster center that is the background"
   ]
  },
  {
   "cell_type": "code",
   "execution_count": null,
   "metadata": {},
   "outputs": [],
   "source": [
    "c1 = np.stack((np.full((10,10), 153), np.full((10,10), 133), np.full((10,10), 75)), axis = 2)\n",
    "c2 = np.stack((np.full((10,10), 227), np.full((10,10), 242), np.full((10,10), 245)), axis = 2)\n",
    "c3 = np.stack((np.full((10,10), 176), np.full((10,10), 169), np.full((10,10), 137)), axis = 2)\n",
    "\n",
    "fig, ax = plt.subplots(ncols=3, sharex=True, sharey=True)\n",
    "ax[0].imshow(c1)\n",
    "ax[0].set_title(\"1\")\n",
    "ax[0].set_axis_off()\n",
    "ax[1].imshow(c2)\n",
    "ax[1].set_axis_off()\n",
    "ax[1].set_title(\"2\")\n",
    "ax[2].imshow(c3)\n",
    "ax[2].set_axis_off()\n",
    "ax[2].set_title(\"3\")\n"
   ]
  },
  {
   "cell_type": "markdown",
   "metadata": {},
   "source": [
    "# The background cluster is the one that is closest to white"
   ]
  },
  {
   "cell_type": "code",
   "execution_count": null,
   "metadata": {},
   "outputs": [],
   "source": [
    "white = [255,255,255]\n",
    "\n",
    "bg1 = np.argmin(np.sum(np.subtract(white, m1.cluster_centers_), axis=1))\n",
    "bg2 = np.argmin(np.sum(np.subtract(white, m2.cluster_centers_), axis=1))\n",
    "bg3 = np.argmin(np.sum(np.subtract(white, m3.cluster_centers_), axis=1))"
   ]
  },
  {
   "cell_type": "code",
   "execution_count": null,
   "metadata": {},
   "outputs": [],
   "source": [
    "l1 = m1.predict(im1.reshape((im1.shape[0] * im1.shape[1], im1.shape[2]))).reshape(im1.shape[:2])\n",
    "l2 = m2.predict(im2.reshape((im2.shape[0] * im2.shape[1], im2.shape[2]))).reshape(im2.shape[:2])\n",
    "l3 = m3.predict(im3.reshape((im3.shape[0] * im3.shape[1], im3.shape[2]))).reshape(im3.shape[:2])"
   ]
  },
  {
   "cell_type": "code",
   "execution_count": null,
   "metadata": {},
   "outputs": [],
   "source": [
    "s1, s2, s3 = im1.copy(), im2.copy(), im3.copy()\n",
    "s1[l1 == bg1] = [0,0,0]\n",
    "s2[l2 == bg2] = [0,0,0]\n",
    "s3[l3 == bg3] = [0,0,0]"
   ]
  },
  {
   "cell_type": "code",
   "execution_count": null,
   "metadata": {},
   "outputs": [],
   "source": [
    "fig, ax = plt.subplots(ncols=3, sharey=True)\n",
    "ax[0].imshow(im1, aspect='equal')\n",
    "ax[1].imshow(im2, aspect='equal')\n",
    "ax[2].imshow(im3, aspect='equal')\n",
    "\n",
    "ax[0].axis('off')\n",
    "ax[1].axis('off')\n",
    "ax[2].axis('off')\n",
    "\n",
    "plt.tight_layout()"
   ]
  },
  {
   "cell_type": "code",
   "execution_count": null,
   "metadata": {},
   "outputs": [],
   "source": [
    "labels = slic(im1, n_segments=3)"
   ]
  },
  {
   "cell_type": "code",
   "execution_count": null,
   "metadata": {},
   "outputs": [],
   "source": []
  }
 ],
 "metadata": {
  "kernelspec": {
   "display_name": "Python 3",
   "language": "python",
   "name": "python3"
  },
  "language_info": {
   "codemirror_mode": {
    "name": "ipython",
    "version": 3
   },
   "file_extension": ".py",
   "mimetype": "text/x-python",
   "name": "python",
   "nbconvert_exporter": "python",
   "pygments_lexer": "ipython3",
   "version": "3.7.3"
  }
 },
 "nbformat": 4,
 "nbformat_minor": 2
}
