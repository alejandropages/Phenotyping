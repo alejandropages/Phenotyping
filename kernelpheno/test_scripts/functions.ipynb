{
 "cells": [
  {
   "cell_type": "code",
   "execution_count": 1,
   "metadata": {},
   "outputs": [],
   "source": [
    "import os.path as osp\n",
    "import os\n",
    "\n",
    "import numpy as np\n",
    "from sklearn.cluster import KMeans\n",
    "from skimage.io import imread\n",
    "from scipy.spatial.distance import cdist\n",
    "import matplotlib.pyplot as plt"
   ]
  },
  {
   "cell_type": "code",
   "execution_count": 2,
   "metadata": {},
   "outputs": [],
   "source": [
    "def train_kmeans_models(images, min_k, max_k):\n",
    "    assert min_k <= max_k\n",
    "    \n",
    "    if type(images) is not list:\n",
    "        images = [images]\n",
    "    \n",
    "    features = [image.reshape((image.shape[0] * image.shape[1], image.shape[2])) for image in images]\n",
    "    data = {}\n",
    "    for i, X in enumerate(features):\n",
    "        print(\"Training models on image {}\".format(i))\n",
    "        data[i] = { 'models' : [], 'labels' : [] }\n",
    "        for k in range(min_k, max_k + 1):\n",
    "            print(\"Traing on K = \" + str(k))\n",
    "            model = KMeans(n_clusters=k)\n",
    "            labels = model.fit_predict(X).reshape(images[i].shape[:2])\n",
    "            data[i]['models'].append(model)\n",
    "            data[i]['labels'].append(labels)\n",
    "            \n",
    "    return data"
   ]
  },
  {
   "cell_type": "code",
   "execution_count": 1,
   "metadata": {},
   "outputs": [],
   "source": [
    "def plot_maps(images, data, min_k, max_k,\n",
    "              colors = [[0,0,0], [255,255,255], [255,0,0],\n",
    "                        [0,255,0],[0,0,255],[255,255,0],\n",
    "                        [0,255,255],[255,0,255]]\n",
    "             ):\n",
    "    \n",
    "    assert min_k <= max_k\n",
    "    \n",
    "    if type(images) is not list:\n",
    "        images = [images] \n",
    "    \n",
    "    sample_aspect = (images[0].shape[0] * 3) / (float(images[0].shape[1]) * MAX_K - MIN_K + 1)\n",
    "\n",
    "    fig, ax = plt.subplots(nrows=len(data), ncols=MAX_K - MIN_K + 2, figsize=(15, int(15 * sample_aspect)))\n",
    "\n",
    "    for i, x in enumerate(ax):\n",
    "        x[0].imshow(images[i], aspect='auto')\n",
    "        x[0].set_axis_off()\n",
    "\n",
    "    ax[0][0].set_title(\"Original\")\n",
    "    for iax in range(1,MAX_K - MIN_K + 2):\n",
    "        ax[0][iax].set_title(\"K = \"+ str(iax + MIN_K - 1))\n",
    "\n",
    "    for i,x in enumerate(ax):\n",
    "        for j,k in enumerate(range(MIN_K, MAX_K + 1)):  \n",
    "            pred_image = np.zeros(images[i].shape, dtype=int)\n",
    "            labels = data[i]['labels'][j]\n",
    "            for l in range(k):\n",
    "                pred_image[labels == l] = colors[l]\n",
    "            x[j+1].imshow(pred_image, aspect='auto')\n",
    "            x[j+1].set_axis_off()\n",
    "\n",
    "    plt.tight_layout()\n",
    "    plt.show()"
   ]
  },
  {
   "cell_type": "code",
   "execution_count": 1,
   "metadata": {},
   "outputs": [],
   "source": [
    "def segment(image, bg_val=(255,255,255), return_filter=False):\n",
    "    m = KMeans(n_clusters = 3)\n",
    "    flattened_dims = (image.shape[0] * image.shape[1], image.shape[2])\n",
    "    labels = m.fit_predict(image.reshape(flattened_dims)).reshape(image.shape[:2])\n",
    "    \n",
    "    # find the cluster closest to the color white\n",
    "    bg_px_cluster = np.argmin(\n",
    "                        np.sum(\n",
    "                            np.subtract(bg_val, m.cluster_centers_),\n",
    "                            axis=1\n",
    "                        )\n",
    "                    )\n",
    "    \n",
    "    # convert background pixels to black\n",
    "    image[labels == bg_px_cluster, :] = [0,0,0]\n",
    "    if return_filter:\n",
    "        bin_filt = labels.copy()\n",
    "        bin_filt[labels == bg_px_cluster] = 0\n",
    "        bin_filt[labels != bg_px_cluster] = 1\n",
    "        return image, bin_filt\n",
    "    return image"
   ]
  },
  {
   "cell_type": "code",
   "execution_count": null,
   "metadata": {},
   "outputs": [],
   "source": [
    "\n",
    "    "
   ]
  }
 ],
 "metadata": {
  "kernelspec": {
   "display_name": "Python 3",
   "language": "python",
   "name": "python3"
  },
  "language_info": {
   "codemirror_mode": {
    "name": "ipython",
    "version": 3
   },
   "file_extension": ".py",
   "mimetype": "text/x-python",
   "name": "python",
   "nbconvert_exporter": "python",
   "pygments_lexer": "ipython3",
   "version": "3.6.7"
  }
 },
 "nbformat": 4,
 "nbformat_minor": 2
}
